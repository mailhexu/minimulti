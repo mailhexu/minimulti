{
 "cells": [
  {
   "cell_type": "markdown",
   "metadata": {},
   "source": [
    "## COHP analysis\n",
    "\n",
    "For a eigenstate of the electronic hamiltonian $\\psi_{m}^{k}$, the eigen energy is\n",
    "\\begin{equation}\n",
    "  \\label{eq:COHP}\n",
    "E_{m}^{k}= < {\\psi_{m}^{k}}| H^{k} |{\\psi_{m}^{k}}>\n",
    "\\end{equation}\n",
    "\n",
    "With the tight binding basis set $w$,\n",
    "\\begin{equation}\n",
    "E_{m}^{k}= \\sum_{ij}< {\\psi_{m}^{k}}|{w_{i}}> <{w_{i}}| H^{k}|{w_{j}}> <{w_{j}}|{\\psi_{m}^{k}}>\n",
    "\\end{equation}\n",
    "\n",
    "Therefore, for a pair of $w_{i}$ and $w_{j}$, $H^{k}_{ij}=<{w_{i}}|\n",
    "H^{k}|{w_{j}}>$, their contribution to the m$^{th}$  eigen-energy at k-point is\n",
    "\n",
    "\\begin{equation}\n",
    "  \\label{COHPij}\n",
    "S_{ij, m}^{k}=< {\\psi_{m}^{k}}|{w_{i}}>  H_{ij}^{k} <{w_{j}}|{\\psi_{m}^{k}}>\n",
    "\\end{equation}\n",
    "\n",
    "Note that for inter-site orbitals, this is the energy cost by hybridization of\n",
    "them. If this energy is positive, it is anti-bonding effect, otherwise it is\n",
    "bonding effect. This is similar to the Crystal orbital hamiltonian population\n",
    "analysis. This is still valid in the Hubbard model with HF\n",
    "approximation, since the HF approximation only correct the diagonal part of the\n",
    "tight binding hamiltonian.\n",
    "\n",
    "Now we take the perovskite eg model as an example to show"
   ]
  },
  {
   "cell_type": "code",
   "execution_count": 1,
   "metadata": {},
   "outputs": [],
   "source": [
    "import numpy as np\n",
    "import matplotlib.pyplot as plt\n",
    "from minimulti.electron.builder import perovskite_builder\n",
    "from ase.io import write\n",
    "\n",
    "\n",
    "def nickelate_band(U=0,\n",
    "                   J=0,\n",
    "                   Br=0,\n",
    "                   spinat=[1, 1, 1, 1],\n",
    "                   sc_matrix=np.array([[1, -1, 0], [1, 1, 0], [0, 0, 2]]),\n",
    "                   onsite_energies=[0] * 4 * 4):\n",
    "    model = perovskite_builder(\n",
    "        B='Ni', orbs='eg'        )\n",
    "    model = model.make_supercell(sc_matrix)\n",
    "\n",
    "    model.set_onsite(onsite_energies, mode='add')\n",
    "    model.set_Hubbard_U(Utype='Kanamori', Hubbard_dict={'Ni': {\n",
    "            'U': U,\n",
    "            'J': J\n",
    "        }},\n",
    "        dim=2,\n",
    "        DC_type='FLL-ns')\n",
    "\n",
    "    model.set_initial_spin(spinat)\n",
    "    model.set(nel=np.linalg.det(sc_matrix)*1,\n",
    "              tol_energy=1e-6,\n",
    "              tol_rho=1e-6,\n",
    "              mixing=0.3,\n",
    "              sigma=0.2,\n",
    "              workdir='./tmp'\n",
    "              )\n",
    "    model.set_kmesh([6,6,6])\n",
    "    #print(\"Calculation begins.\")\n",
    "    model.scf_solve(print_iter_info=False)\n",
    "    #cohp=model.calc_COHP()\n",
    "    model.plot_COHP_fatband(\n",
    "                          kvectors=np.array([[0, 0, 0], [0.5, 0, 0], [0.5, 0.5, 0],\n",
    "                                             [0, 0, 0], [.5, .5, .5]]),\n",
    "                          knames=['$\\Gamma$', 'X', 'M', '$\\Gamma$', 'R'],\n",
    "                          supercell_matrix=sc_matrix,\n",
    "                          #iblock=[0,1,2,3],\n",
    "                          #jblock=[4,5,6,7],\n",
    "                          width=3,\n",
    "                          show=False,efermi=None, axis=None)\n",
    "    plt.show()\n"
   ]
  },
  {
   "cell_type": "code",
   "execution_count": 2,
   "metadata": {},
   "outputs": [
    {
     "data": {
      "application/vnd.jupyter.widget-view+json": {
       "model_id": "1ce79d8ad9764939ac1104ba281f9615",
       "version_major": 2,
       "version_minor": 0
      },
      "text/plain": [
       "interactive(children=(FloatSlider(value=2.1, description='U', max=5.0, min=1.0, step=0.5), FloatSlider(value=1…"
      ]
     },
     "metadata": {},
     "output_type": "display_data"
    }
   ],
   "source": [
    "%matplotlib inline\n",
    "# FM\n",
    "from ipywidgets import FloatSlider, interact, interact_manual, fixed\n",
    "def test_FM(U=2.1, J=1.0):\n",
    "    nickelate_band(\n",
    "        U=U,\n",
    "        J=J,\n",
    "        spinat=[1, 1, -0.0, -0.0, 0.0, 0.0, -1, -1],\n",
    "        sc_matrix=[[1, -1, 0], [1, 1, 0], [0, 0, 2]],\n",
    "    )\n",
    "\n",
    "#test_FM()\n",
    "interact_manual(test_FM, U=(1,5,0.5), J=(0, 2, 0.2));"
   ]
  },
  {
   "cell_type": "code",
   "execution_count": null,
   "metadata": {},
   "outputs": [],
   "source": []
  },
  {
   "cell_type": "code",
   "execution_count": null,
   "metadata": {},
   "outputs": [],
   "source": []
  }
 ],
 "metadata": {
  "kernelspec": {
   "display_name": "Python 3",
   "language": "python",
   "name": "python3"
  },
  "language_info": {
   "codemirror_mode": {
    "name": "ipython",
    "version": 3
   },
   "file_extension": ".py",
   "mimetype": "text/x-python",
   "name": "python",
   "nbconvert_exporter": "python",
   "pygments_lexer": "ipython3",
   "version": "3.7.5"
  }
 },
 "nbformat": 4,
 "nbformat_minor": 2
}
