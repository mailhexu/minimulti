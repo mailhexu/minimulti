{
 "cells": [
  {
   "cell_type": "markdown",
   "metadata": {},
   "source": [
    "## Spin dynamics\n",
    "\n",
    "Now we load the spin model from exchange.xml file generated with wann2J.py, which can be found in ./data."
   ]
  },
  {
   "cell_type": "code",
   "execution_count": 1,
   "metadata": {},
   "outputs": [],
   "source": [
    "import numpy as np\n",
    "from minimulti.spin.spin_api import SpinModel\n",
    "\n",
    "def build_spin_model(fname=\"./data/exchange_FM.xml\"):\n",
    "    smodel=SpinModel(fname=fname)\n",
    "    #sc_ham=smodel.make_supercell(np.eye(3)*2)\n",
    "    smodel.set(temperature=300, \n",
    "            time_step=0.0001,\n",
    "            total_time=1\n",
    "            )\n",
    "    return smodel\n"
   ]
  },
  {
   "cell_type": "markdown",
   "metadata": {},
   "source": [
    "### Plot magnon dispersion curve\n",
    "use the plot_magnon_band method. Note that the cell here has two unitcell in (111) direction. Therefore, we can use a supercell_matrix of [[0,1,1],[1,0,1],[1,1,0]] to unfold it to the primitive cubic cell"
   ]
  },
  {
   "cell_type": "code",
   "execution_count": 2,
   "metadata": {},
   "outputs": [
    {
     "name": "stdout",
     "output_type": "stream",
     "text": [
      "warning: zion not found\n",
      "warning: zion not found\n",
      "warning: zion not found\n",
      "warning: zion not found\n",
      "warning: zion not found\n"
     ]
    },
    {
     "data": {
      "image/png": "[encoded data removed]",
      "text/plain": [
       "<Figure size 432x288 with 1 Axes>"
      ]
     },
     "metadata": {},
     "output_type": "display_data"
    }
   ],
   "source": [
    "%matplotlib inline\n",
    "import matplotlib.pyplot as plt\n",
    "def plot_magnon_band():\n",
    "    smodel=build_spin_model()\n",
    "    #smodel.plot_magnon_band(supercell_matrix=[[0,1,1],[1,0,1],[1,1,0]], npoints=200)\n",
    "    smodel.plot_magnon_band()\n",
    "    plt.show()\n",
    "plot_magnon_band()"
   ]
  },
  {
   "cell_type": "markdown",
   "metadata": {},
   "source": [
    "### Run spin dynamics"
   ]
  },
  {
   "cell_type": "code",
   "execution_count": 17,
   "metadata": {},
   "outputs": [
    {
     "name": "stdout",
     "output_type": "stream",
     "text": [
      "warning: zion not found\n",
      "warning: zion not found\n",
      "warning: zion not found\n",
      "warning: zion not found\n",
      "warning: zion not found\n",
      "Finished\n"
     ]
    }
   ],
   "source": [
    "def run_spin_dynamics():\n",
    "    smodel=build_spin_model()\n",
    "    smodel.make_supercell(np.eye(3)*4)\n",
    "    smodel.set(temperature=300,\n",
    "               time_step=1e-4,\n",
    "               total_time=1\n",
    "              )\n",
    "    smodel.run_time()\n",
    "    print(\"Finished\")\n",
    "    \n",
    "run_spin_dynamics()"
   ]
  },
  {
   "cell_type": "code",
   "execution_count": null,
   "metadata": {},
   "outputs": [],
   "source": []
  },
  {
   "cell_type": "code",
   "execution_count": 5,
   "metadata": {},
   "outputs": [
    {
     "name": "stdout",
     "output_type": "stream",
     "text": [
      "warning: zion not found\n",
      "warning: zion not found\n",
      "warning: zion not found\n",
      "warning: zion not found\n",
      "warning: zion not found\n"
     ]
    },
    {
     "ename": "AttributeError",
     "evalue": "'SpinModel' object has no attribute 'atoms'",
     "output_type": "error",
     "traceback": [
      "\u001b[0;31m---------------------------------------------------------------------------\u001b[0m",
      "\u001b[0;31mAttributeError\u001b[0m                            Traceback (most recent call last)",
      "\u001b[0;32m<ipython-input-5-9dd28a6a2e90>\u001b[0m in \u001b[0;36m<module>\u001b[0;34m()\u001b[0m\n\u001b[1;32m      5\u001b[0m     \u001b[0mprint\u001b[0m\u001b[0;34m(\u001b[0m\u001b[0msmodel\u001b[0m\u001b[0;34m.\u001b[0m\u001b[0matoms\u001b[0m\u001b[0;34m(\u001b[0m\u001b[0;34m)\u001b[0m\u001b[0;34m)\u001b[0m\u001b[0;34m\u001b[0m\u001b[0m\n\u001b[1;32m      6\u001b[0m \u001b[0;34m\u001b[0m\u001b[0m\n\u001b[0;32m----> 7\u001b[0;31m \u001b[0mplot_magnon_band_auto\u001b[0m\u001b[0;34m(\u001b[0m\u001b[0;34m)\u001b[0m\u001b[0;34m\u001b[0m\u001b[0m\n\u001b[0m",
      "\u001b[0;32m<ipython-input-5-9dd28a6a2e90>\u001b[0m in \u001b[0;36mplot_magnon_band_auto\u001b[0;34m()\u001b[0m\n\u001b[1;32m      3\u001b[0m \u001b[0;32mdef\u001b[0m \u001b[0mplot_magnon_band_auto\u001b[0m\u001b[0;34m(\u001b[0m\u001b[0;34m)\u001b[0m\u001b[0;34m:\u001b[0m\u001b[0;34m\u001b[0m\u001b[0m\n\u001b[1;32m      4\u001b[0m     \u001b[0msmodel\u001b[0m\u001b[0;34m=\u001b[0m\u001b[0mbuild_spin_model\u001b[0m\u001b[0;34m(\u001b[0m\u001b[0;34m)\u001b[0m\u001b[0;34m\u001b[0m\u001b[0m\n\u001b[0;32m----> 5\u001b[0;31m     \u001b[0mprint\u001b[0m\u001b[0;34m(\u001b[0m\u001b[0msmodel\u001b[0m\u001b[0;34m.\u001b[0m\u001b[0matoms\u001b[0m\u001b[0;34m(\u001b[0m\u001b[0;34m)\u001b[0m\u001b[0;34m)\u001b[0m\u001b[0;34m\u001b[0m\u001b[0m\n\u001b[0m\u001b[1;32m      6\u001b[0m \u001b[0;34m\u001b[0m\u001b[0m\n\u001b[1;32m      7\u001b[0m \u001b[0mplot_magnon_band_auto\u001b[0m\u001b[0;34m(\u001b[0m\u001b[0;34m)\u001b[0m\u001b[0;34m\u001b[0m\u001b[0m\n",
      "\u001b[0;31mAttributeError\u001b[0m: 'SpinModel' object has no attribute 'atoms'"
     ]
    }
   ],
   "source": [
    "%matplotlib inline\n",
    "import matplotlib.pyplot as plt\n",
    "def plot_magnon_band_auto():\n",
    "    smodel=build_spin_model()\n",
    "    print(smodel.atoms())\n",
    "\n",
    "plot_magnon_band_auto()"
   ]
  },
  {
   "cell_type": "code",
   "execution_count": null,
   "metadata": {},
   "outputs": [],
   "source": []
  }
 ],
 "metadata": {
  "kernelspec": {
   "display_name": "Python 3",
   "language": "python",
   "name": "python3"
  },
  "language_info": {
   "codemirror_mode": {
    "name": "ipython",
    "version": 3
   },
   "file_extension": ".py",
   "mimetype": "text/x-python",
   "name": "python",
   "nbconvert_exporter": "python",
   "pygments_lexer": "ipython3",
   "version": "3.6.7"
  }
 },
 "nbformat": 4,
 "nbformat_minor": 2
}
