{
 "cells": [
  {
   "cell_type": "markdown",
   "metadata": {},
   "source": [
    "## Using Wannier Function to construct Hamiltonian\n",
    "While it is possible to build the models by writting out all the terms, it is difficult if we need to build a accurate model or if the system is complicated. Thanks to the wannier function method, we can extract a tight binding Hamiltonian from DFT data. Minimulti is interfaced withe Wannier90 so it can read the output from Wannier90 and build models on top of that.  \n",
    "\n",
    "In this example, a model for SrMnO3 is built. We first calcualte the Wannier function Hamiltonian from DFT+Wannier90 in a non-magnetic system. We use non-spin-polarized GGA in the DFT calculation. Then in the model Hamiltonian  a Hubbard correction is added to the tight binding Hamiltonian, which enables the simulation of magnetic properties.\n",
    "\n",
    "Here the O2p and Mn 3d orbitals are considered in the Hamiltonian. The result below shows that three Mn t2g obitals in the same spin channle are occupied and the other 3d states are empty."
   ]
  },
  {
   "cell_type": "code",
   "execution_count": 1,
   "metadata": {},
   "outputs": [],
   "source": [
    "%matplotlib inline\n",
    "from minimulti.electron.Hamiltonian import load_pickle_to_model \n",
    "import numpy as np\n",
    "import matplotlib.pyplot as plt\n",
    "import os\n",
    "\n",
    "def run_SrMnO3_FM(sc_matrix=[[1, 0, 0], [0, 1, 0], [0, 0, 1]],# supercell matrix\n",
    "                U=7, # U value\n",
    "                J=1, # J value\n",
    "                Utype='Kanamori',\n",
    "                spinat=[0.0] * 9 + [0,1,1,0,1],  # spinat for each orb. [pz, px, py]*3 , [dz2, dxy, dyz, dx^2-y^2, dxz]\n",
    "):\n",
    "    model_fname='data/SrMnO3_wannier/SrMnO3.pickle'\n",
    "    #if not os.path.exists(output_directory):\n",
    "    #    os.makedirs(output_directory)\n",
    "    spinat = np.array(spinat)\n",
    "    model = load_pickle_to_model(model_fname)\n",
    "    model.set_Hubbard_U(\n",
    "        Utype=Utype,\n",
    "        #Utype='Kanamori',\n",
    "        Hubbard_dict={'Mn': {\n",
    "            'U': U,\n",
    "            'J': J,\n",
    "        }})\n",
    "    model.set_kmesh([6, 6, 6])\n",
    "    model.set_initial_spin(spinat)\n",
    "    model.set(nel=21, tol_energy=1e-6, tol_rho=1e-6, mixing=0.5, sigma=0.1)\n",
    "    model.scf_solve(print_iter_info=False)\n",
    "    #etotal=model._total_energy\n",
    "    #print(model.get_site_charges())\n",
    "    #print(model.get_site_magnetic_moments())\n",
    "    kvectors = [[0, 0, 0], [0, 0.5, 0], [0.5, 0.5, 0], [0, 0, 0],\n",
    "                [0.5, 0.5, 0.5]]\n",
    "    \n",
    "    # plot band structure with projections to orbitals\n",
    "    model.plot_band(\n",
    "        supercell_matrix=sc_matrix,\n",
    "        kvectors=kvectors,\n",
    "        knames=['$\\Gamma$', 'X', 'M', \"$\\Gamma$\", 'R']\n",
    "        )\n",
    "    plt.show()\n",
    "\n",
    "    #charges = model.get_site_charges()\n",
    "    #spins = model.get_site_magnetic_moments()"
   ]
  },
  {
   "cell_type": "code",
   "execution_count": 2,
   "metadata": {
    "scrolled": false
   },
   "outputs": [
    {
     "data": {
      "application/vnd.jupyter.widget-view+json": {
       "model_id": "c809dea8c1f04c5ba6e6ae3244dbf807",
       "version_major": 2,
       "version_minor": 0
      },
      "text/plain": [
       "interactive(children=(FloatSlider(value=7.0, description='U', max=8.0, step=0.5), FloatSlider(value=1.0, descr…"
      ]
     },
     "metadata": {},
     "output_type": "display_data"
    }
   ],
   "source": [
    "%matplotlib inline\n",
    "from ipywidgets import FloatSlider, interact, interact_manual, fixed\n",
    "#run_SrMnO3_FM( U=8, J=1)\n",
    "interact_manual(run_SrMnO3_FM,\n",
    "                sc_matrix=fixed([[1, 0, 0], [0, 1, 0], [0, 0, 1]]),\n",
    "                U=(0, 8,0.5),\n",
    "                J=(0,2, 0.1), \n",
    "                Utype=['Kanamori', 'Liechtenstein'], \n",
    "                spinat=fixed([0.0] * 9 + [0,1,1,0,1]));"
   ]
  },
  {
   "cell_type": "code",
   "execution_count": null,
   "metadata": {},
   "outputs": [],
   "source": []
  }
 ],
 "metadata": {
  "kernelspec": {
   "display_name": "Python 3",
   "language": "python",
   "name": "python3"
  },
  "language_info": {
   "codemirror_mode": {
    "name": "ipython",
    "version": 3
   },
   "file_extension": ".py",
   "mimetype": "text/x-python",
   "name": "python",
   "nbconvert_exporter": "python",
   "pygments_lexer": "ipython3",
   "version": "3.8.2"
  }
 },
 "nbformat": 4,
 "nbformat_minor": 2
}
