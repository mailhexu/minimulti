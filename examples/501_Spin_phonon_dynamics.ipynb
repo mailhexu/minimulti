{
 "cells": [
  {
   "cell_type": "markdown",
   "metadata": {},
   "source": [
    "## Spin Lattice Coupled dynamics\n"
   ]
  },
  {
   "cell_type": "markdown",
   "metadata": {},
   "source": [
    "### Model building\n",
    "To build the coupled-spin-phonon model, we need first standalone spin/phonon models."
   ]
  },
  {
   "cell_type": "code",
   "execution_count": 1,
   "metadata": {},
   "outputs": [],
   "source": [
    "import numpy as np\n",
    "from ase.io import read\n",
    "from minimulti.ioput.ifc_parser import IFCParser\n",
    "from minimulti.spin_lattice_coupling.fitting import fit_cubic_T\n",
    "from minimulti.spin_lattice_coupling.slc import Order2Term\n",
    "\n",
    "from minimulti.spin_lattice_coupling.slc import SpinLatticeCoupling\n",
    "\n",
    "def fit_Tijuv():\n",
    "    mags = ['FM', 'A', 'G', 'C']\n",
    "    fname = lambda mag: 'data/%s_ifc.txt' % mag\n",
    "\n",
    "    ref_atoms = read('./data/POSCAR')\n",
    "    ifc = {}\n",
    "    for mag in mags:\n",
    "        parser = IFCParser(atoms=ref_atoms, fname=fname(mag))\n",
    "        ifc[mag] = parser.get_total_ifc()\n",
    "\n",
    "    ifc0, J2, J2dict = fit_cubic_T(ifc['FM'], ifc['G'], ifc['A'], ifc['C'])\n",
    "    term = Order2Term(natom=5, ms=[1], parameter=J2dict)\n",
    "    return term\n",
    "\n",
    "\n",
    "def build_splatt_term():\n",
    "    splatt_term=SpinLatticeCoupling(ms=[1], natom=5)\n",
    "    Tijuv_term=fit_Tijuv()\n",
    "    splatt_term.add_term(Tijuv_term,name='Tijuv')\n",
    "    return splatt_term"
   ]
  },
  {
   "cell_type": "code",
   "execution_count": null,
   "metadata": {},
   "outputs": [
    {
     "name": "stdout",
     "output_type": "stream",
     "text": [
      "warning: zion not found\n",
      "warning: zion not found\n",
      "warning: zion not found\n",
      "warning: zion not found\n",
      "warning: zion not found\n"
     ]
    }
   ],
   "source": [
    "from ase.io import read\n",
    "import numpy as np\n",
    "from minimulti.lattice.lattice import Lattice\n",
    "from minimulti.spin.spin_api import SpinModel\n",
    "from minimulti.spin_lattice_coupling.slc import SpinLatticeCoupling\n",
    "from minimulti.spin_lattice_model.spin_lattice_model import SpinLatticeModel\n",
    "from ase.io import write\n",
    "from ase.units import kB, fs\n",
    "\n",
    "def run_spin_lattice_dynamics(supercell_matrix=np.eye(3)*4):\n",
    "    # phonon model\n",
    "    ifcfile = 'data/FM_ifc.txt'\n",
    "    atoms = read('data/POSCAR')   # reference atomic structure\n",
    "    lattice_model = Lattice(ref_atoms=atoms)   # initialize Lattice model\n",
    "    lattice_model.read_ifc_file(ifcfile)\n",
    "    # spin model\n",
    "    spin_model=SpinModel(fname='data/exchange_FM.xml')\n",
    "    \n",
    "    # spin lattice coupling term\n",
    "    sp_latt_term=build_splatt_term()\n",
    "    \n",
    "    # put them into coupled model\n",
    "    sp_latt_model= SpinLatticeModel(lattice_model=lattice_model, spin_model=spin_model, spin_lattice_coupling=sp_latt_term)\n",
    "    \n",
    "    # build supercell\n",
    "    sp_latt_model=sp_latt_model.make_supercell(sc_matrix=supercell_matrix)\n",
    "    \n",
    "    # set parameters\n",
    "    sp_latt_model.set_spin_params(temperature=300, time_step=1e-4, total_time=1)\n",
    "    sp_latt_model.set_lattice_params(lattice_temperature=300*kB, lattice_time_step= 5*fs, lattice_friction=0.002)\n",
    "    for step in range(1000):\n",
    "        sp_latt_model.run(3)\n",
    "        write('splatt_traj/atom%03d.xyz'%step, sp_latt_model.atoms)\n",
    "    print(\"Finished\")\n",
    "\n",
    "run_spin_lattice_dynamics()"
   ]
  },
  {
   "cell_type": "code",
   "execution_count": null,
   "metadata": {},
   "outputs": [],
   "source": []
  },
  {
   "cell_type": "code",
   "execution_count": null,
   "metadata": {},
   "outputs": [],
   "source": []
  }
 ],
 "metadata": {
  "kernelspec": {
   "display_name": "Python 3",
   "language": "python",
   "name": "python3"
  },
  "language_info": {
   "codemirror_mode": {
    "name": "ipython",
    "version": 3
   },
   "file_extension": ".py",
   "mimetype": "text/x-python",
   "name": "python",
   "nbconvert_exporter": "python",
   "pygments_lexer": "ipython3",
   "version": "3.7.5"
  }
 },
 "nbformat": 4,
 "nbformat_minor": 2
}
