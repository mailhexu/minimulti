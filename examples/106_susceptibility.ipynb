{
 "cells": [
  {
   "cell_type": "code",
   "execution_count": 1,
   "metadata": {},
   "outputs": [
    {
     "name": "stdout",
     "output_type": "stream",
     "text": [
      "-4.440892098500626e-16\n"
     ]
    },
    {
     "data": {
      "image/png": "[encoded data removed]",
      "text/plain": [
       "<Figure size 432x288 with 1 Axes>"
      ]
     },
     "metadata": {
      "needs_background": "light"
     },
     "output_type": "display_data"
    }
   ],
   "source": [
    "%matplotlib inline\n",
    "import numpy as np\n",
    "from  minimulti.electron.Hamiltonian import etb_model, atoms_model\n",
    "from minimulti.electron.basis2 import BasisSet, gen_basis_set, atoms_to_basis\n",
    "from ase.atoms import Atoms\n",
    "import matplotlib.pyplot as plt\n",
    "\n",
    "N=10\n",
    "def run_1d_chain_1atom(t=1, nel=1):\n",
    "    # generate structure.\n",
    "    atoms=Atoms(symbols='H', positions=[(0,0,0)], cell=[1,1,1])\n",
    "    # generate basis set\n",
    "    bset= atoms_to_basis(atoms, basis_dict={'H': ('s',)}, nspin=2)\n",
    "    # generate model\n",
    "    mymodel=atoms_model(atoms=atoms, basis_set=bset, nspin=2)\n",
    "\n",
    "    # onsite energy (tune v to make electron localized on one site)\n",
    "    #mymodel.set_onsite(v,0)\n",
    "    #mymodel.set_onsite(v,1)\n",
    "\n",
    "    # 1D hopping along z. Format: t, i, j, R.\n",
    "    # spin up\n",
    "    mymodel.set_hop(t, 0,0, [0,0,1])\n",
    "    # spin down\n",
    "    mymodel.set_hop(t, 1,1, [0,0,1])\n",
    "\n",
    "    mymodel.set_hop(t, 0,0, [0,1,0])\n",
    "    # spin down\n",
    "    mymodel.set_hop(t, 1,1, [0,1,0])\n",
    "    \n",
    "    mymodel.set_hop(t, 0,0, [1,0,0])\n",
    "    # spin down\n",
    "    mymodel.set_hop(t, 1,1, [1,0,0])\n",
    "    \n",
    "    mymodel.set(nel=nel, mixing=0.5, tol_energy=1e-8, tol_rho=1e-8, sigma=0.1)\n",
    "    mymodel.set_Hubbard_U(Utype='Dudarev', Hubbard_dict={'H':{'U':0, 'J':0}})\n",
    "\n",
    "    # K mesh.\n",
    "    mymodel.set_kmesh([N,N,N])\n",
    "\n",
    "    # Scf solve\n",
    "    mymodel.scf_solve(print_iter_info=False)\n",
    "    efermi=mymodel.get_fermi_level()\n",
    "    print(efermi)\n",
    "    qlist=np.zeros(( N,3), dtype=float)\n",
    "    #qlist[:,1]=np.arange(0.0, 1.0, 1.0/10)+1.0/10\n",
    "    #qlist[:,1]=4/N\n",
    "    #qlist[:,0]=4/N\n",
    "    qlist[:,2]=np.arange(0.0, 1.0, 1.0/N)\n",
    "    return mymodel.calc_chi0_list(qlist=qlist)\n",
    "x=np.arange(0.0, 1.0, 1.0/N)\n",
    "chi=run_1d_chain_1atom()\n",
    "plt.plot(x, -chi)\n",
    "plt.show()"
   ]
  },
  {
   "cell_type": "code",
   "execution_count": 2,
   "metadata": {},
   "outputs": [],
   "source": []
  },
  {
   "cell_type": "code",
   "execution_count": null,
   "metadata": {},
   "outputs": [],
   "source": []
  }
 ],
 "metadata": {
  "kernelspec": {
   "display_name": "Python 3",
   "language": "python",
   "name": "python3"
  },
  "language_info": {
   "codemirror_mode": {
    "name": "ipython",
    "version": 3
   },
   "file_extension": ".py",
   "mimetype": "text/x-python",
   "name": "python",
   "nbconvert_exporter": "python",
   "pygments_lexer": "ipython3",
   "version": "3.7.5"
  }
 },
 "nbformat": 4,
 "nbformat_minor": 2
}
