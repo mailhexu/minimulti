{
 "cells": [
  {
   "cell_type": "markdown",
   "metadata": {},
   "source": [
    "# Downfolding tight binding model\n"
   ]
  },
  {
   "cell_type": "code",
   "execution_count": 8,
   "metadata": {},
   "outputs": [
    {
     "data": {
      "application/vnd.jupyter.widget-view+json": {
       "model_id": "51108422d5214f66b3180ffbb6911ad9",
       "version_major": 2,
       "version_minor": 0
      },
      "text/plain": [
       "interactive(children=(Dropdown(description='method', options=('scdmk', 'projected'), value='scdmk'), Text(valu…"
      ]
     },
     "metadata": {},
     "output_type": "display_data"
    }
   ],
   "source": [
    "from minimulti.electron.wannier90 import wannier_to_model\n",
    "from minimulti.scdm.scdmk import WannierProjectedBuilder, WannierScdmkBuilder, occupation_func\n",
    "from minimulti.scdm.downfolder import downfolding\n",
    "from ase.dft.kpoints import monkhorst_pack\n",
    "from tbmodels import Model\n",
    "from minimulti.electron.ijR import ijR\n",
    "import matplotlib.pyplot as plt\n",
    "import pickle\n",
    "import os\n",
    "from minimulti.plot import plot_band\n",
    "import numpy as np\n",
    "from ipywidgets import FloatSlider, interact, fixed, interact_manual\n",
    "\n",
    "def save_model():\n",
    "    m = Model.from_wannier_folder(folder='/home/hexu/projects/SMO_Wannier/',\n",
    "                                  prefix='abinito_w90_down')\n",
    "    mijR = ijR.from_tbmodel(m)\n",
    "    mijR.save(fname='SMO_tb.nc')\n",
    "\n",
    "\n",
    "def read_model():\n",
    "    m = ijR.load_ijR('/home/hexu/projects/TB_downfolding/SMO_tb.nc')\n",
    "    return m\n",
    "def run(method='scdmk',\n",
    "                      kmesh='3 3 3',\n",
    "                      nwann=3,\n",
    "                      ftype='Gauss',\n",
    "                      mu=3.0,\n",
    "                      sigma=4.0,\n",
    "                      selected_basis='',\n",
    "                      use_proj=True):\n",
    "    anchors={ (0,0,0):(6,7,8)}\n",
    "    kmesh=[int(x) for x in kmesh.split()]\n",
    "    selected_basis=[int(x) for x in selected_basis.split()]\n",
    "    model = read_model()\n",
    "    ax=plot_band(model, color='blue', alpha=0.8, marker='')\n",
    "    ewf = downfolding(model,\n",
    "                      method=method,\n",
    "                      kmesh=kmesh,\n",
    "                      nwann=nwann,\n",
    "                      weight_func=ftype,\n",
    "                      mu=mu,\n",
    "                      sigma=sigma,\n",
    "                      selected_basis=selected_basis,\n",
    "                      anchors=anchors,\n",
    "                      use_proj=use_proj)\n",
    "    plot_band(ewf, color='green', alpha=0.5, marker='.', ax=ax)\n",
    "    plt.show()\n",
    "    \n",
    "\n",
    "interact_manual(run, method=['scdmk', 'projected'], ftype=['unity', 'Gauss','Fermi', 'window'], mu=(-1, 13, 0.5), sigma=(0, 15, 1));\n"
   ]
  },
  {
   "cell_type": "code",
   "execution_count": null,
   "metadata": {},
   "outputs": [],
   "source": []
  }
 ],
 "metadata": {
  "kernelspec": {
   "display_name": "Python 3",
   "language": "python",
   "name": "python3"
  },
  "language_info": {
   "codemirror_mode": {
    "name": "ipython",
    "version": 3
   },
   "file_extension": ".py",
   "mimetype": "text/x-python",
   "name": "python",
   "nbconvert_exporter": "python",
   "pygments_lexer": "ipython3",
   "version": "3.7.5"
  }
 },
 "nbformat": 4,
 "nbformat_minor": 2
}
