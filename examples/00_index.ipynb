{
 "cells": [
  {
   "cell_type": "markdown",
   "metadata": {},
   "source": [
    "# Indexes\n",
    "\n",
    "##  Electron\n",
    "* cell doubling and Pierels metal insulator transition.\n",
    "* Hubbard model and Mott metal insulator transition. Done\n",
    "* Perovskite eg & t2g models. Done.\n",
    "* Build model from Wannier function Hamiltonian. Done.\n",
    "* COHP analysis. Done.\n",
    "\n",
    "* Downfolding of tight binding Model\n",
    "* Berry Phase and polarization\n",
    "* Spin and intersite exchange\n",
    "\n",
    "\n",
    "##  Spin\n",
    "* Terms in spin Hamiltonian and dynamics\n",
    "\n",
    "##  Lattice\n",
    "<!--* Lattice Hamiltonian (TODO) -->\n",
    "* Phonon band structure\n",
    "* Phonon unfolding\n",
    "* Molecular dynamics\n",
    "* Lattice Wannier function \n",
    "\n",
    "\n",
    "##  Electron phonon coupling\n",
    "* electron phonon coupling in 1D chain (1st order perturbation theory)\n",
    "* Polaron\n",
    "* Spin-phonon coupling from electron phonon coupling (1d chain & SrMnO3)\n",
    "* Fitting parameters (TODO)\n",
    "\n",
    "\n",
    "## Spin-phonon coupling\n",
    "* Coupled spin-phonon dynamics\n"
   ]
  },
  {
   "cell_type": "markdown",
   "metadata": {},
   "source": []
  },
  {
   "cell_type": "code",
   "execution_count": null,
   "metadata": {},
   "outputs": [],
   "source": []
  }
 ],
 "metadata": {
  "kernelspec": {
   "display_name": "Python 3",
   "language": "python",
   "name": "python3"
  },
  "language_info": {
   "codemirror_mode": {
    "name": "ipython",
    "version": 3
   },
   "file_extension": ".py",
   "mimetype": "text/x-python",
   "name": "python",
   "nbconvert_exporter": "python",
   "pygments_lexer": "ipython3",
   "version": "3.6.6"
  }
 },
 "nbformat": 4,
 "nbformat_minor": 2
}
