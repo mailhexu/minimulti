{
 "cells": [
  {
   "cell_type": "code",
   "execution_count": 9,
   "metadata": {},
   "outputs": [
    {
     "data": {
      "application/vnd.jupyter.widget-view+json": {
       "model_id": "c04ab5783c874bf482781cf08ec26788",
       "version_major": 2,
       "version_minor": 0
      },
      "text/plain": [
       "VBox(children=(Figure(animation=100.0, camera=PerspectiveCamera(fov=46.0, position=(0.0, 0.0, 2.0), quaternion…"
      ]
     },
     "metadata": {},
     "output_type": "display_data"
    }
   ],
   "source": [
    "%matplotlib inline\n",
    "from minimulti.spin.hist_file import read_hist\n",
    "import numpy as np\n",
    "import ipyvolume as ipv\n",
    "\n",
    "def show_spin(fname):\n",
    "    hist=read_hist(fname)\n",
    "    pos=hist[\"positions\"]\n",
    "    s=hist[\"spin\"]\n",
    "    ipv.figure()\n",
    "    x,y,z=np.array(pos).T\n",
    "    #vx, vy, vz=np.array(s).T\n",
    "    \n",
    "    vx=s[:,:,0]\n",
    "    vy=s[:,:,1]\n",
    "    vz=s[:,:,2]\n",
    "    #ipv.quickscatter(x,y,z, size=1, marker='sphere')\n",
    "    q=ipv.quiver(x, y, z, vx, vy, vz, size=5)\n",
    "    ipv.animation_control(q, interval=100)\n",
    "    #ipv.style.use([\"dark\",\"minimal\"])\n",
    "    ipv.show()\n",
    "#show_spin('./Spinhist.nc')  \n",
    "show_spin('/home/hexu/projects/minimulti/examples/Spinhist.nc') "
   ]
  },
  {
   "cell_type": "code",
   "execution_count": null,
   "metadata": {},
   "outputs": [],
   "source": []
  },
  {
   "cell_type": "code",
   "execution_count": null,
   "metadata": {},
   "outputs": [],
   "source": []
  }
 ],
 "metadata": {
  "kernelspec": {
   "display_name": "Python 3",
   "language": "python",
   "name": "python3"
  },
  "language_info": {
   "codemirror_mode": {
    "name": "ipython",
    "version": 3
   },
   "file_extension": ".py",
   "mimetype": "text/x-python",
   "name": "python",
   "nbconvert_exporter": "python",
   "pygments_lexer": "ipython3",
   "version": "3.7.3"
  }
 },
 "nbformat": 4,
 "nbformat_minor": 2
}
