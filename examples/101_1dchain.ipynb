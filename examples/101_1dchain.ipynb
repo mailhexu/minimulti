{
 "cells": [
  {
   "cell_type": "markdown",
   "metadata": {},
   "source": [
    "## Tight binding model"
   ]
  },
  {
   "cell_type": "markdown",
   "metadata": {},
   "source": [
    "## 1d mono-atomic chain\n",
    "Here we show the electronic structure of 1d atomic chain as an example of tight binding model. In each unitcell, there is one atom, with an s orbital. Between each two first nearest neighbors, the hopping of the two s orbitals is t. This system has the energy dispertion of $E_k=2t cos(k)$."
   ]
  },
  {
   "cell_type": "code",
   "execution_count": 1,
   "metadata": {},
   "outputs": [],
   "source": [
    "%matplotlib inline\n",
    "import numpy as np\n",
    "from  minimulti.electron.Hamiltonian import etb_model, atoms_model\n",
    "from minimulti.electron.basis2 import BasisSet, gen_basis_set, atoms_to_basis\n",
    "from ase.atoms import Atoms\n",
    "import matplotlib.pyplot as plt\n",
    "\n",
    "\n",
    "def run_1d_chain_1atom(t=1, nel=1):\n",
    "    # generate structure.\n",
    "    atoms=Atoms(symbols='H', positions=[(0,0,0)], cell=[1,1,1])\n",
    "    # generate basis set\n",
    "    bset= atoms_to_basis(atoms, basis_dict={'H': ('s',)}, nspin=2)\n",
    "    # generate model\n",
    "    mymodel=atoms_model(atoms=atoms, basis_set=bset, nspin=2)\n",
    "\n",
    "    # onsite energy (tune v to make electron localized on one site)\n",
    "    #mymodel.set_onsite(v,0)\n",
    "    #mymodel.set_onsite(v,1)\n",
    "\n",
    "    # 1D hopping along z. Format: t, i, j, R.\n",
    "    # spin up\n",
    "    mymodel.set_hop(t, 0,0, [0,0,1])\n",
    "    # spin down\n",
    "    mymodel.set_hop(t, 1,1, [0,0,1])\n",
    "    \n",
    "        # spin up\n",
    "    mymodel.set_hop(t, 0,0, [0,1,0])\n",
    "    # spin down\n",
    "    mymodel.set_hop(t, 1,1, [0,1,0])\n",
    "\n",
    "    mymodel.set(nel=nel, mixing=0.5, tol_energy=1e-8, tol_rho=1e-8, sigma=0.05)\n",
    "    mymodel.set_Hubbard_U(Utype='Dudarev', Hubbard_dict={'H':{'U':0, 'J':0}})\n",
    "\n",
    "    # K mesh.\n",
    "    mymodel.set_kmesh([1,8,30])\n",
    "\n",
    "    # Scf solve\n",
    "    mymodel.scf_solve(print_iter_info=True)\n",
    "    efermi=mymodel.get_fermi_level()\n",
    "\n",
    "    kpt_x=np.arange(0, 1.01,0.01)\n",
    "    kpts=[np.array([0,0,1]) * x for x in kpt_x]\n",
    "    evalues, evecs=mymodel.solve_all(k_list=kpts)\n",
    "\n",
    "    for i in range(mymodel._norb):\n",
    "        plt.plot(kpt_x, evalues[i,:])\n",
    "    plt.xlabel('k-point')\n",
    "    plt.ylabel('Energy')\n",
    "    plt.axhline(efermi, linestyle='--', color='gray')"
   ]
  },
  {
   "cell_type": "code",
   "execution_count": 2,
   "metadata": {},
   "outputs": [
    {
     "data": {
      "application/vnd.jupyter.widget-view+json": {
       "model_id": "7fcf9802c0be4639ae23560a4e734044",
       "version_major": 2,
       "version_minor": 0
      },
      "text/plain": [
       "interactive(children=(FloatSlider(value=1.0, description='t', max=1.0), FloatSlider(value=1.0, description='ne…"
      ]
     },
     "metadata": {},
     "output_type": "display_data"
    }
   ],
   "source": [
    "from ipywidgets import FloatSlider, interact_manual\n",
    "#run_1d_chain_1atom(t=1, nel=1)\n",
    "interact_manual(run_1d_chain_1atom, \n",
    "                t=FloatSlider(min=0,max=1, step=0.1,value=1.0),  \n",
    "                nel=FloatSlider(min=0,max=2, step=0.1,value=1.0 ));"
   ]
  },
  {
   "cell_type": "code",
   "execution_count": 3,
   "metadata": {},
   "outputs": [
    {
     "name": "stdout",
     "output_type": "stream",
     "text": [
      "Populating the interactive namespace from numpy and matplotlib\n"
     ]
    }
   ],
   "source": [
    "%pylab inline\n",
    "import numpy as np\n",
    "from  minimulti.electron.Hamiltonian import etb_model, atoms_model\n",
    "from minimulti.electron.basis2 import BasisSet, gen_basis_set, atoms_to_basis\n",
    "from ase.atoms import Atoms\n",
    "import matplotlib.pyplot as plt\n",
    "\n",
    "\n",
    "def run_1d_chain_2atom(t=1,  dt=0.0, nel=2):\n",
    "    # generate structure.\n",
    "    atoms=Atoms(symbols='H', positions=[(0,0,0)], cell=[1,1,1])\n",
    "    # generate basis set\n",
    "    bset= atoms_to_basis(atoms, basis_dict={'H': ('s',)}, nspin=2)\n",
    "    # generate model\n",
    "    mymodel=atoms_model(atoms=atoms, basis_set=bset, nspin=2)\n",
    "\n",
    "    # make supercell\n",
    "    sc_matrix=np.diag([1,1,2])\n",
    "    nsc=np.linalg.det(sc_matrix)\n",
    "    mymodel=mymodel.make_supercell(sc_matrix)\n",
    "    # onsite energy (tune v to make electron localized on one site)\n",
    "    # mymodel.set_onsite(v,0)\n",
    "    # mymodel.set_onsite(v,1)\n",
    "\n",
    "    # 1D hopping along z. Format: t, i, j, R.\n",
    "    # spin up\n",
    "    mymodel.set_hop(t-dt, 0,2, [0,0,0])\n",
    "    mymodel.set_hop(t+dt, 2,0,[0,0,1])\n",
    "    # spin down\n",
    "    mymodel.set_hop(t-dt, 1,3, [0,0,0])\n",
    "    mymodel.set_hop(t+dt, 3,1, [0,0,1])\n",
    "    mymodel.set(nel=nel*nsc, mixing=0.5, tol_energy=1e-8, tol_rho=1e-8, sigma=0.1)\n",
    "    mymodel.set_Hubbard_U(Utype='Dudarev', Hubbard_dict={'H':{'U':0, 'J':0}})\n",
    "\n",
    "    # K mesh.\n",
    "    mymodel.set_kmesh([1,1,30])\n",
    "\n",
    "    # Scf solve\n",
    "    mymodel.scf_solve(print_iter_info=False)\n",
    "    efermi=mymodel.get_fermi_level()\n",
    "\n",
    "    kpt_x=np.arange(0, 1.01,0.01)\n",
    "    kpts=[np.array([0,0,1]) * x for x in kpt_x]\n",
    "    evalues, evecs=mymodel.solve_all(k_list=kpts)\n",
    "\n",
    "    for i in range(mymodel._norb):\n",
    "        plt.plot(kpt_x, evalues[i,:], color='black')\n",
    "    plt.xlabel('k-point')\n",
    "    plt.ylabel('Energy')\n",
    "    plt.axhline(efermi, linestyle='--', color='gray')"
   ]
  },
  {
   "cell_type": "markdown",
   "metadata": {},
   "source": [
    "The simple 1d-chain can provide an example of how an insulator can be formed by cell-doubling. Let's consider the same 1d-chain, but this time, we use two unit of atoms as our cell. This would reduce the Brillouin zone to half its size. (The unit of BZ is $2\\pi/2a$ instead of $2\\pi/a$ in the following figure.) Now let one atom move toward\n",
    "Of cource, if nothing is changed, the property of the system is the same as before: it is metallic. \n",
    "\n",
    "<img src=\"electron_1d.png\" width=\"400\">"
   ]
  },
  {
   "cell_type": "code",
   "execution_count": 4,
   "metadata": {},
   "outputs": [
    {
     "data": {
      "application/vnd.jupyter.widget-view+json": {
       "model_id": "a567c5a97a374f0fac7d90b51a0d3771",
       "version_major": 2,
       "version_minor": 0
      },
      "text/plain": [
       "interactive(children=(FloatSlider(value=0.0, description='dt', max=1.0), Output()), _dom_classes=('widget-inte…"
      ]
     },
     "metadata": {},
     "output_type": "display_data"
    }
   ],
   "source": [
    "from ipywidgets import FloatSlider, interact, interact_manual, fixed\n",
    "#run_1d_chain_1atom(t=1, nel=1)\n",
    "interact(run_1d_chain_2atom, \n",
    "                t=fixed(1.0),\n",
    "                dt=FloatSlider(min=0.0, max=1.0, step=0.1, value=0.0),\n",
    "                nel=fixed(1.0));"
   ]
  },
  {
   "cell_type": "code",
   "execution_count": 5,
   "metadata": {},
   "outputs": [
    {
     "data": {
      "application/vnd.jupyter.widget-view+json": {
       "model_id": "908cbb75a356400e85bfd73865894055",
       "version_major": 2,
       "version_minor": 0
      },
      "text/plain": [
       "interactive(children=(FloatSlider(value=0.3, description='dt', max=1.0), Output()), _dom_classes=('widget-inte…"
      ]
     },
     "metadata": {},
     "output_type": "display_data"
    }
   ],
   "source": [
    "from ipywidgets import FloatSlider, interact, interact_manual, fixed\n",
    "#run_1d_chain_1atom(t=1, nel=1)\n",
    "interact(run_1d_chain_2atom, \n",
    "                t=fixed(1.0),\n",
    "                dt=FloatSlider(min=0.0, max=1.0, step=0.1, value=0.3),\n",
    "                nel=fixed(1.0));"
   ]
  },
  {
   "cell_type": "code",
   "execution_count": null,
   "metadata": {},
   "outputs": [],
   "source": []
  }
 ],
 "metadata": {
  "kernelspec": {
   "display_name": "Python 3",
   "language": "python",
   "name": "python3"
  },
  "language_info": {
   "codemirror_mode": {
    "name": "ipython",
    "version": 3
   },
   "file_extension": ".py",
   "mimetype": "text/x-python",
   "name": "python",
   "nbconvert_exporter": "python",
   "pygments_lexer": "ipython3",
   "version": "3.7.5"
  }
 },
 "nbformat": 4,
 "nbformat_minor": 2
}
