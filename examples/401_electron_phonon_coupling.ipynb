{
 "cells": [
  {
   "cell_type": "markdown",
   "metadata": {},
   "source": [
    "# Electron-phonon coupling (First order perturbation.)\n",
    "\n",
    "Here we show the electron-phonon coupling affect the electron band structure. \n",
    "The Hamiltonian can be written as \n",
    "$H=H_0+\\frac{\\partial H}{\\partial A} A$, where $H_0$ is the unperturbated hamiltonian, and A is the phonon amplitude. For each eigen state $|\\psi_0(k)>$ of $H_0(k)$, the first order perturbation to the eigen energy is:\n",
    "$<\\psi_0(k)|\\frac{\\partial V}{\\partial A}|\\psi_0(k)>$.\n",
    "Again we take the 1d H atom chain as an example. \n",
    "\n",
    "A fatband of the band shift can be plotted to show the shift of each eigen energy. "
   ]
  },
  {
   "cell_type": "code",
   "execution_count": 1,
   "metadata": {},
   "outputs": [],
   "source": [
    "%matplotlib inline\n",
    "import numpy as np\n",
    "from  minimulti.electron.Hamiltonian import etb_model, atoms_model\n",
    "from minimulti.electron.epc import EPC\n",
    "from minimulti.electron.basis2 import BasisSet, gen_basis_set, atoms_to_basis\n",
    "from ase.atoms import Atoms\n",
    "import matplotlib.pyplot as plt\n",
    "\n",
    "\n",
    "def plot_epc(t=1,  dtdx=0.1, dx=0.0, nel=1, order=1):\n",
    "    # generate structure.\n",
    "    atoms=Atoms(symbols='H', positions=[(0,0,0)], cell=[1,1,1])\n",
    "    # generate basis set\n",
    "    bset= atoms_to_basis(atoms, basis_dict={'H': ('s',)}, nspin=2)\n",
    "    # generate model\n",
    "    mymodel=atoms_model(atoms=atoms, basis_set=bset, nspin=2)\n",
    "\n",
    "    # make supercell\n",
    "    sc_matrix=np.diag([1,1,2])\n",
    "    nsc=np.linalg.det(sc_matrix)\n",
    "    mymodel=mymodel.make_supercell(sc_matrix)\n",
    "    # onsite energy (tune v to make electron localized on one site)\n",
    "    # mymodel.set_onsite(v,0)\n",
    "    # mymodel.set_onsite(v,1)\n",
    "\n",
    "    # 1D hopping along z. Format: t, i, j, R.\n",
    "    # spin up\n",
    "    mymodel.set_hop(t-dtdx*dx, 0,2, [0,0,0])\n",
    "    mymodel.set_hop(t+dtdx*dx, 2,0,[0,0,1])\n",
    "    # spin down\n",
    "    mymodel.set_hop(t-dtdx*dx, 1,3, [0,0,0])\n",
    "    mymodel.set_hop(t+dtdx*dx, 3,1, [0,0,1])\n",
    "    mymodel.set(nel=nel*nsc, mixing=0.5, tol_energy=1e-8, tol_rho=1e-8, sigma=0.1)\n",
    "    mymodel.set_Hubbard_U(Utype='Dudarev', Hubbard_dict={'H':{'U':0, 'J':0}})\n",
    "\n",
    "    # K mesh.\n",
    "    mymodel.set_kmesh([1,1,30])\n",
    "\n",
    "    # Scf solve\n",
    "    mymodel.scf_solve(print_iter_info=False)\n",
    "    efermi=mymodel.get_fermi_level()\n",
    "    \n",
    "    # Electron phonon coupling term.\n",
    "    epc_nospin=EPC(norb=2)\n",
    "    epc_nospin.add_term(R=(0,0,0), i=0, j=1,val=-dtdx)\n",
    "    epc_nospin.add_term(R=(0,0,1), i=1, j=0,val=dtdx)\n",
    "    #epc_nospin.add_term(R=(0,0,0), i=0, j=1,val=dt)\n",
    "    #epc_nospin.add_term(R=(0,0,0), i=0, j=1,val=dt)\n",
    "    epc_spin=epc_nospin.to_spin_polarized()\n",
    "\n",
    "    #shift=epc_spin.get_band_shift(kpts, evecs, mymodel.bset.get_positions())\n",
    "    #print(shift)\n",
    "    #print(epc_spin._epc)\n",
    "    \n",
    "    kpt_x=np.arange(0, 1.01,0.001)\n",
    "    kpts=[np.array([0,0,1]) * x for x in kpt_x]\n",
    "    evalues, evecs=mymodel.solve_all(k_list=kpts)\n",
    "\n",
    "    ax=epc_spin.plot_epc_fatband(kpts, evalues, evecs,   kpt_x,order=order, X=[0,1], xnames=['0','1'], show=False, efermi=efermi, width=2)\n",
    "    for i in range(mymodel._norb):\n",
    "        ax.plot(kpt_x, evalues[i,:], color='green', linewidth=0.1)\n",
    "    ax.set_xlabel('k-point')\n",
    "    ax.set_ylabel('Energy')\n",
    "    ax.axhline(efermi, linestyle='--', color='gray')\n",
    "\n",
    "    plt.show()\n",
    "    "
   ]
  },
  {
   "cell_type": "markdown",
   "metadata": {},
   "source": [
    "For dx=0, we can see below that from first order perturbation the shift of the bands are zero everywhere due to symmetry. Second order perturbation is needed in this case to see the band shift."
   ]
  },
  {
   "cell_type": "code",
   "execution_count": 2,
   "metadata": {},
   "outputs": [
    {
     "name": "stderr",
     "output_type": "stream",
     "text": [
      "/home/hexu/projects/minimulti/minimulti/electron/epc.py:269: ComplexWarning: Casting complex values to real discards the imaginary part\n",
      "  ret[:, ik] = Pert.Epert1(evecs_ik, Hk)\n"
     ]
    },
    {
     "data": {
      "image/png": "[encoded data removed]",
      "text/plain": [
       "<Figure size 432x288 with 1 Axes>"
      ]
     },
     "metadata": {
      "needs_background": "light"
     },
     "output_type": "display_data"
    }
   ],
   "source": [
    "plot_epc(t=1,  dtdx=0.5, dx=0.0, nel=1)"
   ]
  },
  {
   "cell_type": "markdown",
   "metadata": {},
   "source": [
    "For dx$\\neq$0, the band shift is shown below. The red and blue colors show the sign of the shift: negative and positive respectively. We can see the opening of the band gap as dx increases. Also we can see that at $k=0$ and $k=1$, the band shift is zero. Whereas the maximum band shift is at $k=0.5$. \n",
    "Note that here the BZ has the unit of $2\\pi/2a$ since we take two H atom as the unitcell. If we use the single H atom as the unitcell, then the phonon has a wavevector of 1/2, and the maximum band shift will be at 1/4, which is half of the phonon wave vector."
   ]
  },
  {
   "cell_type": "code",
   "execution_count": 3,
   "metadata": {
    "scrolled": false
   },
   "outputs": [
    {
     "data": {
      "application/vnd.jupyter.widget-view+json": {
       "model_id": "15549d42acf64731bb4c2c6706a56e52",
       "version_major": 2,
       "version_minor": 0
      },
      "text/plain": [
       "interactive(children=(FloatSlider(value=0.0, description='dx', max=1.0, min=-1.0), Dropdown(description='order…"
      ]
     },
     "metadata": {},
     "output_type": "display_data"
    }
   ],
   "source": [
    "#plot_epc(t=1,  dtdx=0.5, dx=0.4, nel=1)\n",
    "from ipywidgets import FloatSlider, interact, interact_manual, fixed\n",
    "interact(plot_epc, t=fixed(1), dtdx=fixed(1), dx=(-1.0,1.0,0.1), nel=fixed(1), order=[1,2]);"
   ]
  },
  {
   "cell_type": "code",
   "execution_count": null,
   "metadata": {},
   "outputs": [],
   "source": []
  },
  {
   "cell_type": "code",
   "execution_count": null,
   "metadata": {},
   "outputs": [],
   "source": []
  }
 ],
 "metadata": {
  "kernelspec": {
   "display_name": "Python 3",
   "language": "python",
   "name": "python3"
  },
  "language_info": {
   "codemirror_mode": {
    "name": "ipython",
    "version": 3
   },
   "file_extension": ".py",
   "mimetype": "text/x-python",
   "name": "python",
   "nbconvert_exporter": "python",
   "pygments_lexer": "ipython3",
   "version": "3.8.6"
  }
 },
 "nbformat": 4,
 "nbformat_minor": 2
}
