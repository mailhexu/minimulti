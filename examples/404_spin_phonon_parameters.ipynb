{
 "cells": [
  {
   "cell_type": "markdown",
   "metadata": {},
   "source": [
    "## Spin phonon coupling parameters"
   ]
  },
  {
   "cell_type": "markdown",
   "metadata": {},
   "source": [
    "### Fit Tijuv "
   ]
  },
  {
   "cell_type": "code",
   "execution_count": 1,
   "metadata": {},
   "outputs": [],
   "source": [
    "import numpy as np\n",
    "from ase.io import read\n",
    "from minimulti.ioput.ifc_parser import IFCParser\n",
    "from minimulti.spin_lattice_coupling.fitting import fit_cubic_T\n",
    "from minimulti.spin_lattice_coupling.slc import Order2Term\n",
    "\n",
    "def fit_Tijuv():\n",
    "    mags = ['FM', 'A', 'G', 'C']\n",
    "    fname = lambda mag: 'data/%s_ifc.txt' % mag\n",
    "\n",
    "    ref_atoms = read('./data/POSCAR')\n",
    "    ifc = {}\n",
    "    for mag in mags:\n",
    "        parser = IFCParser(atoms=ref_atoms, fname=fname(mag))\n",
    "        ifc[mag] = parser.get_total_ifc()\n",
    "\n",
    "    ifc0, J2, J2dict = fit_cubic_T(ifc['FM'], ifc['G'], ifc['A'], ifc['C'])\n",
    "    term = Order2Term(natom=5, ms=[1], parameter=J2dict)\n",
    "    return term"
   ]
  },
  {
   "cell_type": "code",
   "execution_count": 2,
   "metadata": {},
   "outputs": [
    {
     "data": {
      "text/plain": [
       "<minimulti.spin_lattice_coupling.slc.Order2Term at 0x118a14eb8>"
      ]
     },
     "execution_count": 2,
     "metadata": {},
     "output_type": "execute_result"
    }
   ],
   "source": [
    "fit_Tijuv()"
   ]
  },
  {
   "cell_type": "markdown",
   "metadata": {},
   "source": [
    "### Fit Oiju\n",
    "\n",
    "TODO: "
   ]
  },
  {
   "cell_type": "markdown",
   "metadata": {},
   "source": [
    "### Build spin lattice coupling term\n"
   ]
  },
  {
   "cell_type": "code",
   "execution_count": 3,
   "metadata": {},
   "outputs": [],
   "source": [
    "from minimulti.spin_lattice_coupling.slc import SpinLatticeCoupling\n",
    "\n",
    "def build_splatt_term():\n",
    "    splatt_term=SpinLatticeCoupling(ms=[1], natom=5)\n",
    "    Tijuv_term=fit_Tijuv()\n",
    "    splatt_term.add_term(Tijuv_term)\n",
    "build_splatt_term()"
   ]
  },
  {
   "cell_type": "code",
   "execution_count": null,
   "metadata": {},
   "outputs": [],
   "source": []
  }
 ],
 "metadata": {
  "kernelspec": {
   "display_name": "Python 3",
   "language": "python",
   "name": "python3"
  },
  "language_info": {
   "codemirror_mode": {
    "name": "ipython",
    "version": 3
   },
   "file_extension": ".py",
   "mimetype": "text/x-python",
   "name": "python",
   "nbconvert_exporter": "python",
   "pygments_lexer": "ipython3",
   "version": "3.7.5"
  }
 },
 "nbformat": 4,
 "nbformat_minor": 2
}
