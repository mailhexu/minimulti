{
 "cells": [
  {
   "cell_type": "markdown",
   "metadata": {},
   "source": [
    "## Lattice Wannier Functions\n",
    "Similar to the concepts of electron Wannier functions, we can build lattice wannier functions (LWF). In minimulti, the scdm-k method is implemented to build LWF. Here is an example of how to use it.\n",
    "The phonon band below is that of BaTiO3 (LO-TO splitting is not considered, they can be added after the LWF hamiltonian is build.)\n",
    "\n",
    "A usual application of LWF is to build effective Hamiltonian which consists a branch of phonons, which some mode (e.g. in BaTiO3, the $\\Gamma$ ferroelectric mode) are of interest. We can input these mode to the code (which are called anchor points) and then the code can find an effective Hamiltonian which reproduce part of the phonon dispertion curve. "
   ]
  },
  {
   "cell_type": "code",
   "execution_count": 1,
   "metadata": {},
   "outputs": [
    {
     "data": {
      "application/vnd.jupyter.widget-view+json": {
       "model_id": "2e2bab9f64844607b1e4e5d65d5db680",
       "version_major": 2,
       "version_minor": 0
      },
      "text/plain": [
       "interactive(children=(Text(value='green', description='color'), Dropdown(description='ftype', options=('unity'…"
      ]
     },
     "metadata": {},
     "output_type": "display_data"
    }
   ],
   "source": [
    "%matplotlib inline\n",
    "from ase.io import read\n",
    "from minimulti.lattice.lattice import Lattice\n",
    "import matplotlib.pyplot as plt\n",
    "#run_1d_chain_Hubbard(t=1, U=5.300, spinat=[1.0], nel=1.0, v=0.0)\n",
    "from ipywidgets import FloatSlider, interact, fixed, interact_manual\n",
    "def read_phonon_model(ifc_file = 'data/BaTiO3.ifc', struct_file='data/BaTiO3.vasp'):\n",
    "    atoms = read(struct_file)   # reference atomic structure\n",
    "    calc = Lattice(ref_atoms=atoms)   # initialize Lattice model\n",
    "    calc.read_ifc_file(fname=ifc_file) # IFC from ifcfile\n",
    "    return calc\n",
    "\n",
    "def plot_lattice_wannier(color='green', ftype='unity', mu=200, sigma=100,anchor_bands='0 1 2'):\n",
    "    ifc_file = 'data/BaTiO3.ifc'\n",
    "    struct_file='data/BaTiO3.vasp'\n",
    "    anchor_bands=[int(x) for x in anchor_bands.split()]\n",
    "    mu=mu/33/15.6\n",
    "    sigma=sigma/33/15.6\n",
    "    kpts=[3, 3, 3]\n",
    "    calc=read_phonon_model(ifc_file = ifc_file, struct_file=struct_file)\n",
    "    lwf=calc.scdmk(nwann=3, ftype=ftype, mu=mu, sigma=0, kpts=kpts, Rgrid=kpts, #Rgrid=[5, 5, 5],\n",
    "                   anchors={(.0,.0,.0):anchor_bands})\n",
    "    calc.plot_wann_band(lwf)\n",
    "    \n",
    "interact_manual(plot_lattice_wannier, ftype=['unity', 'Gauss','Fermi', 'window'], mu=(0, 800, 30), sigma=(0, 400, 50));"
   ]
  },
  {
   "cell_type": "markdown",
   "metadata": {},
   "source": [
    "### Use of energy window\n",
    "It can be noted that in the example above, the dispertion curve does not strictly follow some band. It is because the algorithm consider the global picture and mix some of the modes. If we are only interested in some energy range (typically some low energies), an energy window can be used to control the mixing of these modes. For example, if we limit the energy to below 300, the dispertion of the LWF becomes the one below. You can tune the emax paramter to see how it changes."
   ]
  },
  {
   "cell_type": "code",
   "execution_count": null,
   "metadata": {},
   "outputs": [],
   "source": []
  }
 ],
 "metadata": {
  "kernelspec": {
   "display_name": "Python 3",
   "language": "python",
   "name": "python3"
  },
  "language_info": {
   "codemirror_mode": {
    "name": "ipython",
    "version": 3
   },
   "file_extension": ".py",
   "mimetype": "text/x-python",
   "name": "python",
   "nbconvert_exporter": "python",
   "pygments_lexer": "ipython3",
   "version": "3.8.6"
  }
 },
 "nbformat": 4,
 "nbformat_minor": 2
}
