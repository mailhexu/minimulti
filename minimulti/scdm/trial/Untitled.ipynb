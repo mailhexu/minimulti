{
 "cells": [
  {
   "cell_type": "markdown",
   "metadata": {},
   "source": [
    "# This notebook are for testing some Linear algebra \n"
   ]
  },
  {
   "cell_type": "code",
   "execution_count": 1,
   "metadata": {},
   "outputs": [],
   "source": [
    "import numpy as np\n",
    "import scipy.linalg as sl\n",
    "from scipy.linalg import eigh, qr, svd"
   ]
  },
  {
   "cell_type": "markdown",
   "metadata": {},
   "source": [
    "### Build some matrices for testing"
   ]
  },
  {
   "cell_type": "code",
   "execution_count": null,
   "metadata": {},
   "outputs": [],
   "source": []
  },
  {
   "cell_type": "code",
   "execution_count": 2,
   "metadata": {},
   "outputs": [],
   "source": [
    "H=np.array([[1.68366952, 1.59227351, 1.06408247],\n",
    "       [1.59227351, 1.60517898, 1.1263274 ],\n",
    "       [1.06408247, 1.1263274 , 0.15138217]])\n",
    "\n",
    "S=np.array([[1, 0.1, 0.3],[0.1, 1, 0.05],[0.3, 0.05, 1]])\n",
    "nb=6\n",
    "H=np.random.random((nb,nb))\n",
    "H=H+H.T.conj()\n"
   ]
  },
  {
   "cell_type": "markdown",
   "metadata": {},
   "source": [
    "\n",
    "#### Test orthogonal eigen problem\n",
    "##### Testing :\n",
    "$H\\Phi = \\Phi E$ \n",
    "\n",
    "$H\\Phi \\neq E\\Phi$\n",
    "\n",
    "$\\Phi E \\Phi^\\dagger = H$\n",
    "\n",
    "$\\Phi \\Phi^\\dagger = I$"
   ]
  },
  {
   "cell_type": "code",
   "execution_count": 3,
   "metadata": {},
   "outputs": [
    {
     "name": "stdout",
     "output_type": "stream",
     "text": [
      "False\n",
      "True\n",
      "True\n",
      "True\n"
     ]
    }
   ],
   "source": [
    "E, Phi =sl.eigh(H)\n",
    "print(np.isclose(H@Phi, np.diag(E)@Phi).all())\n",
    "print(np.isclose(H@Phi, Phi@np.diag(E)).all())\n",
    "print(np.isclose(Phi @ np.diag(E) @Phi.T.conj(), H).all())\n",
    "print(np.isclose( Phi.T.conj()@Phi,np.eye(nb)).all())"
   ]
  },
  {
   "cell_type": "markdown",
   "metadata": {},
   "source": [
    "### Test Scdmk"
   ]
  },
  {
   "cell_type": "code",
   "execution_count": 119,
   "metadata": {},
   "outputs": [],
   "source": [
    "def scdm(psiT, ncol):\n",
    "    \"\"\"\n",
    "    select columns for a psiT.\n",
    "    \"\"\"\n",
    "    _Q, _R, piv = qr(psiT, mode='full', pivoting=True)\n",
    "    cols = piv[:ncol]\n",
    "    return cols\n",
    "\n",
    "def get_Amn(psiT):\n",
    "    U, S, VT= svd(psiT, full_matrices=False)\n",
    "    Amn=U@VT\n",
    "    return Amn\n",
    "\n",
    "def get_wann(Psi, Amn):\n",
    "    return Psi@Amn\n",
    "\n",
    "def get_Hwann(E, Amn):\n",
    "    return Amn.T.conj()@np.diag(E)@Amn\n",
    "\n",
    "def scdm_newH(E, psi, nwann, weight):\n",
    "    psi=psi@np.diag(weight)\n",
    "    col=scdm(psi.T.conj(), nwann)\n",
    "    psi_s=psi[col,:]\n",
    "    Amn=get_Amn(psi_s.T.conj())\n",
    "    Wann=get_wann(psi, Amn)\n",
    "    Hwann= get_Hwann(E, Amn)\n",
    "    return Wann, Hwann"
   ]
  },
  {
   "cell_type": "code",
   "execution_count": 120,
   "metadata": {},
   "outputs": [
    {
     "ename": "TypeError",
     "evalue": "scdm_newH() missing 1 required positional argument: 'weight'",
     "output_type": "error",
     "traceback": [
      "\u001b[0;31m---------------------------------------------------------------------------\u001b[0m",
      "\u001b[0;31mTypeError\u001b[0m                                 Traceback (most recent call last)",
      "\u001b[0;32m<ipython-input-120-bb2f5ae3fd63>\u001b[0m in \u001b[0;36m<module>\u001b[0;34m\u001b[0m\n\u001b[1;32m      4\u001b[0m \u001b[0mH\u001b[0m\u001b[0;34m=\u001b[0m\u001b[0mH\u001b[0m\u001b[0;34m+\u001b[0m\u001b[0mnp\u001b[0m\u001b[0;34m.\u001b[0m\u001b[0mdiag\u001b[0m\u001b[0;34m(\u001b[0m\u001b[0mnp\u001b[0m\u001b[0;34m.\u001b[0m\u001b[0mdiag\u001b[0m\u001b[0;34m(\u001b[0m\u001b[0mH\u001b[0m\u001b[0;34m)\u001b[0m\u001b[0;34m)\u001b[0m\u001b[0;34m\u001b[0m\u001b[0;34m\u001b[0m\u001b[0m\n\u001b[1;32m      5\u001b[0m \u001b[0mE\u001b[0m\u001b[0;34m,\u001b[0m \u001b[0mPhi\u001b[0m\u001b[0;34m=\u001b[0m\u001b[0meigh\u001b[0m\u001b[0;34m(\u001b[0m\u001b[0mH\u001b[0m\u001b[0;34m)\u001b[0m\u001b[0;34m\u001b[0m\u001b[0;34m\u001b[0m\u001b[0m\n\u001b[0;32m----> 6\u001b[0;31m \u001b[0mWann\u001b[0m\u001b[0;34m,\u001b[0m \u001b[0mHwann\u001b[0m \u001b[0;34m=\u001b[0m \u001b[0mscdm_newH\u001b[0m\u001b[0;34m(\u001b[0m\u001b[0mE\u001b[0m\u001b[0;34m,\u001b[0m \u001b[0mPhi\u001b[0m\u001b[0;34m,\u001b[0m \u001b[0;36m3\u001b[0m\u001b[0;34m)\u001b[0m\u001b[0;34m\u001b[0m\u001b[0;34m\u001b[0m\u001b[0m\n\u001b[0m\u001b[1;32m      7\u001b[0m \u001b[0mEw\u001b[0m\u001b[0;34m,\u001b[0m \u001b[0mPhiw\u001b[0m\u001b[0;34m=\u001b[0m\u001b[0meigh\u001b[0m\u001b[0;34m(\u001b[0m\u001b[0mHwann\u001b[0m\u001b[0;34m)\u001b[0m\u001b[0;34m\u001b[0m\u001b[0;34m\u001b[0m\u001b[0m\n\u001b[1;32m      8\u001b[0m \u001b[0mprint\u001b[0m\u001b[0;34m(\u001b[0m\u001b[0mE\u001b[0m\u001b[0;34m)\u001b[0m\u001b[0;34m\u001b[0m\u001b[0;34m\u001b[0m\u001b[0m\n",
      "\u001b[0;31mTypeError\u001b[0m: scdm_newH() missing 1 required positional argument: 'weight'"
     ]
    }
   ],
   "source": [
    "nb=6\n",
    "H=np.random.random((nb,nb))\n",
    "H=H+H.T.conj()\n",
    "H=H+np.diag(np.diag(H))\n",
    "E, Phi=eigh(H)\n",
    "Wann, Hwann = scdm_newH(E, Phi, 3)\n",
    "Ew, Phiw=eigh(Hwann)\n",
    "print(E)\n",
    "print(Ew)"
   ]
  },
  {
   "cell_type": "raw",
   "metadata": {},
   "source": []
  },
  {
   "cell_type": "code",
   "execution_count": 129,
   "metadata": {},
   "outputs": [
    {
     "name": "stdout",
     "output_type": "stream",
     "text": [
      "[-0.95920645 -0.86198711  0.77988323  1.24724065  2.20487513  8.20430962]\n",
      "svd: [-0.86198711  1.24724065]\n",
      "scdmk [-0.85760709  0.79585973]\n"
     ]
    }
   ],
   "source": [
    "def Amn_svd(psiT, ncol):\n",
    "    \"\"\"\n",
    "    select columns for a psiT.\n",
    "    \"\"\"\n",
    "    U, S, VT=svd(psiT)\n",
    "    return U[:, :ncol]\n",
    "\n",
    "\n",
    "def get_wann(Psi, Amn):\n",
    "    return Psi@Amn\n",
    "\n",
    "def get_Hwann(E, Amn):\n",
    "    return Amn.T.conj()@np.diag(E)@Amn\n",
    "\n",
    "def scdm_newH_svd(E, psi, nwann, weight):\n",
    "    psi=psi@np.diag(weight)\n",
    "    Amn=Amn_svd(psi.T.conj(), nwann)\n",
    "    Wann=get_wann(psi, Amn)\n",
    "    Hwann= get_Hwann(E, Amn)\n",
    "    return Wann, Hwann\n",
    "\n",
    "nb=6\n",
    "H=np.random.random((nb,nb))\n",
    "H=H+H.T.conj()\n",
    "H=H+np.diag(np.diag(H))\n",
    "E, Phi=eigh(H)\n",
    "weight=[0.2,1,0.29,0.3,0,0]\n",
    "nwann=2\n",
    "Wann, Hwann = scdm_newH_svd(E, Phi, nwann, weight)\n",
    "Ew1, Phiw=eigh(Hwann)\n",
    "\n",
    "Wann, Hwann = scdm_newH(E, Phi, nwann,weight)\n",
    "Ew2, Phiw=eigh(Hwann)\n",
    "#print(Wann)\n",
    "\n",
    "print(E)\n",
    "print(\"svd:\", Ew1)\n",
    "print(\"scdmk\", Ew2)"
   ]
  },
  {
   "cell_type": "code",
   "execution_count": null,
   "metadata": {},
   "outputs": [],
   "source": []
  },
  {
   "cell_type": "code",
   "execution_count": null,
   "metadata": {},
   "outputs": [],
   "source": []
  }
 ],
 "metadata": {
  "kernelspec": {
   "display_name": "Python 3",
   "language": "python",
   "name": "python3"
  },
  "language_info": {
   "codemirror_mode": {
    "name": "ipython",
    "version": 3
   },
   "file_extension": ".py",
   "mimetype": "text/x-python",
   "name": "python",
   "nbconvert_exporter": "python",
   "pygments_lexer": "ipython3",
   "version": "3.8.2"
  }
 },
 "nbformat": 4,
 "nbformat_minor": 4
}
