{
 "cells": [
  {
   "cell_type": "markdown",
   "metadata": {},
   "source": [
    "# This notebook are for testing some Linear algebra \n"
   ]
  },
  {
   "cell_type": "code",
   "execution_count": 22,
   "metadata": {},
   "outputs": [],
   "source": [
    "import numpy as np\n",
    "import scipy.linalg as sl\n",
    "from scipy.linalg import eigh, qr, svd, inv, det"
   ]
  },
  {
   "cell_type": "markdown",
   "metadata": {},
   "source": [
    "### Build some matrices for testing"
   ]
  },
  {
   "cell_type": "code",
   "execution_count": null,
   "metadata": {},
   "outputs": [],
   "source": []
  },
  {
   "cell_type": "code",
   "execution_count": 43,
   "metadata": {},
   "outputs": [],
   "source": [
    "nb=3\n",
    "H=np.array([[1.68366952, 1.59227351, 1.06408247],\n",
    "       [1.59227351, 1.60517898, 1.1263274 ],\n",
    "       [1.06408247, 1.1263274 , 0.15138217]])\n",
    "\n",
    "S=np.array([[1, 0.1, 0.3],[0.1, 1, 0.05],[0.3, 0.05, 1]])\n"
   ]
  },
  {
   "cell_type": "markdown",
   "metadata": {},
   "source": [
    "\n",
    "#### Test orthogonal eigen problem\n",
    "##### Testing :\n",
    "$H\\Phi = S \\Phi  E$ \n",
    "\n",
    "$H=  S \\Phi E \\Phi^{-1}$\n",
    "\n",
    "$H\\Phi \\neq E\\Phi S$\n",
    "\n",
    "$\\Phi E S \\Phi^\\dagger = H$\n",
    "\n",
    "$\\Phi^\\dagger S \\Phi = I$\n",
    "\n",
    "$\\Phi S \\Phi^\\dagger \\neq I$\n",
    "\n",
    "$S \\Phi \\Phi^\\dagger = I$\n",
    "\n",
    "$\\Phi^{-1} = \\Phi^\\dagger S$\n",
    "\n",
    "$(\\Phi^{\\dagger})^{-1}= S \\Phi$"
   ]
  },
  {
   "cell_type": "code",
   "execution_count": 45,
   "metadata": {},
   "outputs": [
    {
     "name": "stdout",
     "output_type": "stream",
     "text": [
      "True\n",
      "True\n",
      "True\n",
      "True\n",
      "False\n",
      "True\n",
      "True\n",
      "True\n"
     ]
    }
   ],
   "source": [
    "E, Phi =sl.eigh(H, S)\n",
    "print(np.isclose(H@Phi, S@Phi@np.diag(E)).all())   #H P = S P E\n",
    "print(np.isclose(S@ Phi @ np.diag(E) @inv(Phi), H).all()) # H = S P E P^{-1}\n",
    "print(np.isclose(Phi.T.conj() @H@Phi, np.diag(E)).all())        # Pdagger H P = E\n",
    "print(np.isclose( Phi.T.conj()@S@Phi,np.eye(nb)).all()) # Pdagger S P = I\n",
    "print(np.isclose( Phi@S@Phi.T.conj(),np.eye(nb)).all()) # P S Pdagger /=I\n",
    "print(np.isclose( S@Phi@Phi.T.conj(),np.eye(nb)).all()) # S P Pdagger = I\n",
    "print(np.isclose( inv(Phi), Phi.T.conj()@S).all())      # inv(P) = Pdagger S\n",
    "print(np.isclose(inv(Phi.T.conj()), S@Phi).all())       # inv(Pdagger) = SP"
   ]
  },
  {
   "cell_type": "markdown",
   "metadata": {},
   "source": [
    "### Test Scdmk"
   ]
  },
  {
   "cell_type": "code",
   "execution_count": 62,
   "metadata": {},
   "outputs": [],
   "source": [
    "def scdm(psiT, ncol):\n",
    "    \"\"\"\n",
    "    select columns for a psiT.\n",
    "    \"\"\"\n",
    "    _Q, _R, piv = qr(psiT, mode='full', pivoting=True)\n",
    "    cols = piv[:ncol]\n",
    "    return cols\n",
    "\n",
    "def get_Amn(psiT):\n",
    "    U, S, VT= svd(psiT, full_matrices=False)\n",
    "    Amn=U@VT\n",
    "    return Amn\n",
    "\n",
    "def get_wann(Psi, Amn):\n",
    "    return Psi@Amn\n",
    "\n",
    "def get_Hwann(E, Amn):\n",
    "    return Amn.T.conj()@np.diag(E)@Amn\n",
    "\n",
    "def scdm_newH(E, psi, nwann):\n",
    "    psi=psi@np.diag([1,1,0.0])\n",
    "    col=scdm(psi.T.conj(), nwann)\n",
    "    psi_s=psi[col,:]\n",
    "    Amn=get_Amn(psi_s.T.conj())\n",
    "    Wann=get_wann(psi, Amn)\n",
    "    Hwann= get_Hwann(E, Amn)\n",
    "    return Amn,Wann, Hwann"
   ]
  },
  {
   "cell_type": "code",
   "execution_count": 75,
   "metadata": {},
   "outputs": [
    {
     "name": "stdout",
     "output_type": "stream",
     "text": [
      "[[1.68366952 1.59227351 1.06408247]\n",
      " [1.59227351 1.60517898 1.1263274 ]\n",
      " [1.06408247 1.1263274  0.15138217]]\n",
      "[[-0.45908459  0.14115017]\n",
      " [ 0.14115017  0.01914427]]\n",
      "[-0.49763738  0.05769705  3.880171  ]\n",
      "[-0.49763738  0.05769705]\n"
     ]
    },
    {
     "data": {
      "text/plain": [
       "array([1., 1.])"
      ]
     },
     "execution_count": 75,
     "metadata": {},
     "output_type": "execute_result"
    }
   ],
   "source": [
    "\n",
    "E, Phi=eigh(H, np.eye(3))\n",
    "Amn,Wann, Hwann = scdm_newH(E, Phi, 2)\n",
    "Ew, Phiw=eigh(Hwann)\n",
    "print(H)\n",
    "print(Hwann)\n",
    "\n",
    "print(E)\n",
    "print(Ew)\n",
    "\n",
    "#print(np.isclose(H@Wann, Wann@Amn.T.conj() @np.diag(Ew)@Amn))\n",
    "#Phiw.T.conj()@Wann.T.conj()@H@Wann@Phiw\n",
    "Wann[:,0].dot(Wann[:,1])\n",
    "np.linalg.norm(Wann, axis=0)"
   ]
  },
  {
   "cell_type": "raw",
   "metadata": {},
   "source": []
  },
  {
   "cell_type": "code",
   "execution_count": null,
   "metadata": {},
   "outputs": [],
   "source": []
  },
  {
   "cell_type": "code",
   "execution_count": null,
   "metadata": {},
   "outputs": [],
   "source": []
  }
 ],
 "metadata": {
  "kernelspec": {
   "display_name": "Python 3",
   "language": "python",
   "name": "python3"
  },
  "language_info": {
   "codemirror_mode": {
    "name": "ipython",
    "version": 3
   },
   "file_extension": ".py",
   "mimetype": "text/x-python",
   "name": "python",
   "nbconvert_exporter": "python",
   "pygments_lexer": "ipython3",
   "version": "3.8.2"
  }
 },
 "nbformat": 4,
 "nbformat_minor": 4
}
